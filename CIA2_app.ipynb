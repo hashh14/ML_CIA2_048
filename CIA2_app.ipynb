{
 "cells": [
  {
   "cell_type": "code",
   "execution_count": null,
   "metadata": {},
   "outputs": [],
   "source": [
    "from flask import Flask, request, render_template,redirect,url_for\n",
    "app = Flask(__name__)\n",
    "import pickle\n",
    "\n",
    "import pandas as pd\n",
    "import pymysql as pms\n",
    "import numpy as np\n",
    "\n",
    "def model(features):\n",
    "    import pandas as pd\n",
    "    data = pd.read_csv(\"C:\\\\Users\\\\Hashim\\\\OneDrive\\\\Desktop\\\\Desktop\\\\ML\\\\ML_CIA2\\\\CIA2_modeldata.csv\")\n",
    "    data = data.drop(columns=[\"SkinThickness\", \"Pregnancies\",\"DiabetesPedigreeFunction\"])\n",
    "    \n",
    "    x = data.iloc[:,:-1].values\n",
    "    y = data.iloc[:,-1].values\n",
    "    \n",
    "    from sklearn.model_selection import train_test_split\n",
    "    \n",
    "    x_train,x_test,y_train,y_test = train_test_split(x,y, test_size=0.25,random_state=0)\n",
    "    \n",
    "    from sklearn.preprocessing import StandardScaler\n",
    "    sc = StandardScaler()\n",
    "    \n",
    "    x_train = sc.fit_transform(x_train)\n",
    "    x_test = sc.transform(x_test)\n",
    "    \n",
    "    from sklearn.linear_model import LogisticRegression\n",
    "    reg = LogisticRegression()\n",
    "    reg.fit(x_train,y_train)\n",
    "    \n",
    "    features=np.reshape(np.array(features),(1,-1))\n",
    "    prediction = reg.predict(features)\n",
    "    return prediction"
   ]
  },
  {
   "cell_type": "code",
   "execution_count": 24,
   "metadata": {},
   "outputs": [
    {
     "ename": "AssertionError",
     "evalue": "View function mapping is overwriting an existing endpoint function: validate",
     "output_type": "error",
     "traceback": [
      "\u001b[1;31m---------------------------------------------------------------------------\u001b[0m",
      "\u001b[1;31mAssertionError\u001b[0m                            Traceback (most recent call last)",
      "Cell \u001b[1;32mIn[24], line 7\u001b[0m\n\u001b[0;32m      2\u001b[0m \u001b[39m@app\u001b[39m\u001b[39m.\u001b[39mroute(\u001b[39m\"\u001b[39m\u001b[39m/\u001b[39m\u001b[39m\"\u001b[39m)\n\u001b[0;32m      3\u001b[0m \u001b[39mdef\u001b[39;00m \u001b[39mmain_1\u001b[39m():\n\u001b[0;32m      4\u001b[0m     \u001b[39mreturn\u001b[39;00m render_template(\u001b[39m\"\u001b[39m\u001b[39mtemplates/CIA2index.html\u001b[39m\u001b[39m\"\u001b[39m)\n\u001b[0;32m      6\u001b[0m \u001b[39m@app\u001b[39;49m\u001b[39m.\u001b[39;49mroute(\u001b[39m\"\u001b[39;49m\u001b[39m/login\u001b[39;49m\u001b[39m\"\u001b[39;49m,methods\u001b[39m=\u001b[39;49m[\u001b[39m\"\u001b[39;49m\u001b[39mPOST\u001b[39;49m\u001b[39m\"\u001b[39;49m])\n\u001b[1;32m----> 7\u001b[0m \u001b[39mdef\u001b[39;49;00m \u001b[39mvalidate\u001b[39;49m():\n\u001b[0;32m      8\u001b[0m     conn \u001b[39m=\u001b[39;49m pms\u001b[39m.\u001b[39;49mconnect(host\u001b[39m=\u001b[39;49m\u001b[39m\"\u001b[39;49m\u001b[39mlocalhost\u001b[39;49m\u001b[39m\"\u001b[39;49m,port\u001b[39m=\u001b[39;49m\u001b[39m3306\u001b[39;49m,user\u001b[39m=\u001b[39;49m\u001b[39m\"\u001b[39;49m\u001b[39mroot\u001b[39;49m\u001b[39m\"\u001b[39;49m,\n\u001b[0;32m      9\u001b[0m                        password\u001b[39m=\u001b[39;49m\u001b[39m\"\u001b[39;49m\u001b[39mH9895432245H\u001b[39;49m\u001b[39m\"\u001b[39;49m,db\u001b[39m=\u001b[39;49m\u001b[39m\"\u001b[39;49m\u001b[39mdbms\u001b[39;49m\u001b[39m\"\u001b[39;49m)\n\u001b[0;32m     11\u001b[0m     sql\u001b[39m=\u001b[39;49m\u001b[39m\"\u001b[39;49m\u001b[39mselect * from login\u001b[39;49m\u001b[39m\"\u001b[39;49m\n",
      "File \u001b[1;32m~\\AppData\\Local\\Packages\\PythonSoftwareFoundation.Python.3.10_qbz5n2kfra8p0\\LocalCache\\local-packages\\Python310\\site-packages\\flask\\scaffold.py:449\u001b[0m, in \u001b[0;36mScaffold.route.<locals>.decorator\u001b[1;34m(f)\u001b[0m\n\u001b[0;32m    447\u001b[0m \u001b[39mdef\u001b[39;00m \u001b[39mdecorator\u001b[39m(f: T_route) \u001b[39m-\u001b[39m\u001b[39m>\u001b[39m T_route:\n\u001b[0;32m    448\u001b[0m     endpoint \u001b[39m=\u001b[39m options\u001b[39m.\u001b[39mpop(\u001b[39m\"\u001b[39m\u001b[39mendpoint\u001b[39m\u001b[39m\"\u001b[39m, \u001b[39mNone\u001b[39;00m)\n\u001b[1;32m--> 449\u001b[0m     \u001b[39mself\u001b[39m\u001b[39m.\u001b[39madd_url_rule(rule, endpoint, f, \u001b[39m*\u001b[39m\u001b[39m*\u001b[39moptions)\n\u001b[0;32m    450\u001b[0m     \u001b[39mreturn\u001b[39;00m f\n",
      "File \u001b[1;32m~\\AppData\\Local\\Packages\\PythonSoftwareFoundation.Python.3.10_qbz5n2kfra8p0\\LocalCache\\local-packages\\Python310\\site-packages\\flask\\scaffold.py:50\u001b[0m, in \u001b[0;36msetupmethod.<locals>.wrapper_func\u001b[1;34m(self, *args, **kwargs)\u001b[0m\n\u001b[0;32m     48\u001b[0m \u001b[39mdef\u001b[39;00m \u001b[39mwrapper_func\u001b[39m(\u001b[39mself\u001b[39m, \u001b[39m*\u001b[39margs: t\u001b[39m.\u001b[39mAny, \u001b[39m*\u001b[39m\u001b[39m*\u001b[39mkwargs: t\u001b[39m.\u001b[39mAny) \u001b[39m-\u001b[39m\u001b[39m>\u001b[39m t\u001b[39m.\u001b[39mAny:\n\u001b[0;32m     49\u001b[0m     \u001b[39mself\u001b[39m\u001b[39m.\u001b[39m_check_setup_finished(f_name)\n\u001b[1;32m---> 50\u001b[0m     \u001b[39mreturn\u001b[39;00m f(\u001b[39mself\u001b[39m, \u001b[39m*\u001b[39margs, \u001b[39m*\u001b[39m\u001b[39m*\u001b[39mkwargs)\n",
      "File \u001b[1;32m~\\AppData\\Local\\Packages\\PythonSoftwareFoundation.Python.3.10_qbz5n2kfra8p0\\LocalCache\\local-packages\\Python310\\site-packages\\flask\\app.py:1361\u001b[0m, in \u001b[0;36mFlask.add_url_rule\u001b[1;34m(self, rule, endpoint, view_func, provide_automatic_options, **options)\u001b[0m\n\u001b[0;32m   1359\u001b[0m old_func \u001b[39m=\u001b[39m \u001b[39mself\u001b[39m\u001b[39m.\u001b[39mview_functions\u001b[39m.\u001b[39mget(endpoint)\n\u001b[0;32m   1360\u001b[0m \u001b[39mif\u001b[39;00m old_func \u001b[39mis\u001b[39;00m \u001b[39mnot\u001b[39;00m \u001b[39mNone\u001b[39;00m \u001b[39mand\u001b[39;00m old_func \u001b[39m!=\u001b[39m view_func:\n\u001b[1;32m-> 1361\u001b[0m     \u001b[39mraise\u001b[39;00m \u001b[39mAssertionError\u001b[39;00m(\n\u001b[0;32m   1362\u001b[0m         \u001b[39m\"\u001b[39m\u001b[39mView function mapping is overwriting an existing\u001b[39m\u001b[39m\"\u001b[39m\n\u001b[0;32m   1363\u001b[0m         \u001b[39mf\u001b[39m\u001b[39m\"\u001b[39m\u001b[39m endpoint function: \u001b[39m\u001b[39m{\u001b[39;00mendpoint\u001b[39m}\u001b[39;00m\u001b[39m\"\u001b[39m\n\u001b[0;32m   1364\u001b[0m     )\n\u001b[0;32m   1365\u001b[0m \u001b[39mself\u001b[39m\u001b[39m.\u001b[39mview_functions[endpoint] \u001b[39m=\u001b[39m view_func\n",
      "\u001b[1;31mAssertionError\u001b[0m: View function mapping is overwriting an existing endpoint function: validate"
     ]
    }
   ],
   "source": [
    "# app code\n",
    "@app.route(\"/\")\n",
    "def main_1():\n",
    "    return render_template(\"templates/CIA2index.html\")\n",
    "\n",
    "@app.route(\"/login\",methods=[\"POST\"])\n",
    "def validate():\n",
    "    conn = pms.connect(host=\"localhost\",port=3306,user=\"root\",\n",
    "                       password=\"H9895432245H\",db=\"dbms\")\n",
    "\n",
    "    sql=\"select * from login\"\n",
    "    df=pd.read_sql(sql,conn)\n",
    "    data=[request.form[\"username\"],request.form[\"pw\"]]\n",
    "    print(data)\n",
    "    if(data in df.values.tolist()):\n",
    "        return render_template(\"main.html\")\n",
    "    else:\n",
    "        return redirect(url_for(\"main_1\"))\n",
    "\n",
    "@app.route(\"/predict\", methods=['post'])\n",
    "def pred():\n",
    "    features = [i for i in (request.form.values())]\n",
    "    pred = model(features)\n",
    "    if pred==0:\n",
    "        val=\"Low\"\n",
    "    else:\n",
    "        val=\"High\"\n",
    "    return render_template(\"final.html\",data=val)\n",
    "    \n",
    "if __name__=='__main__':\n",
    "    app.run(host='localhost',port=5000)\n",
    "\n",
    "pickle.dump(model, open('model.pkl', 'wb'))"
   ]
  }
 ],
 "metadata": {
  "kernelspec": {
   "display_name": "Python 3",
   "language": "python",
   "name": "python3"
  },
  "language_info": {
   "codemirror_mode": {
    "name": "ipython",
    "version": 3
   },
   "file_extension": ".py",
   "mimetype": "text/x-python",
   "name": "python",
   "nbconvert_exporter": "python",
   "pygments_lexer": "ipython3",
   "version": "3.10.10"
  },
  "orig_nbformat": 4
 },
 "nbformat": 4,
 "nbformat_minor": 2
}
